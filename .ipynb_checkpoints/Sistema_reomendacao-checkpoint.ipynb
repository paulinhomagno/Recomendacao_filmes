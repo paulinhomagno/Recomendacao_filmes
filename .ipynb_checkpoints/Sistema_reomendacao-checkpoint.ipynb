{
 "cells": [
  {
   "cell_type": "code",
   "execution_count": null,
   "id": "e08f74d5",
   "metadata": {},
   "outputs": [],
   "source": []
  },
  {
   "cell_type": "code",
   "execution_count": null,
   "id": "ac2eee5e",
   "metadata": {},
   "outputs": [],
   "source": []
  },
  {
   "cell_type": "code",
   "execution_count": 45,
   "id": "8e578f6d",
   "metadata": {},
   "outputs": [],
   "source": [
    "import requests\n",
    "import json\n",
    "import pandas as pd\n",
    "from tmdbv3api import Movie, TMDb"
   ]
  },
  {
   "cell_type": "markdown",
   "id": "3a7c2d07",
   "metadata": {},
   "source": [
    "## Coleta de dados"
   ]
  },
  {
   "cell_type": "markdown",
   "id": "08d295d8",
   "metadata": {},
   "source": [
    "1ª base de dados:\n",
    "Esta base será coletada de um site que possui um API que cadastrado uma chave consegue-se extrair dados de um filme através do id do filme.\n",
    "O site The Movie Database, mais conhecido pela sigla TMDb, é uma base de dados grátis e de código aberto, sobre filmes e seriados, criado por Travis Bell em 2008. "
   ]
  },
  {
   "cell_type": "markdown",
   "id": "35fb379c",
   "metadata": {},
   "source": [
    "API de acesso a dados de filmes: https://developers.themoviedb.org/4/getting-started/authorization\n",
    "Site para cadastro de chave api key: https://www.themoviedb.org/"
   ]
  },
  {
   "cell_type": "code",
   "execution_count": 77,
   "id": "98cdc3f3",
   "metadata": {},
   "outputs": [],
   "source": [
    "# teste de acesso\n",
    "MOVIE_ID = 561362\n",
    "API_KEY = 'd2dee50252ec42a906562d4f3c43dfb0'"
   ]
  },
  {
   "cell_type": "code",
   "execution_count": 102,
   "id": "e4837fe7",
   "metadata": {},
   "outputs": [],
   "source": [
    "url = f'https://api.themoviedb.org/3/movie/{MOVIE_ID}?api_key={API_KEY}'"
   ]
  },
  {
   "cell_type": "code",
   "execution_count": 103,
   "id": "f2c2e25a",
   "metadata": {},
   "outputs": [
    {
     "name": "stdout",
     "output_type": "stream",
     "text": [
      "<Response [200]>\n"
     ]
    }
   ],
   "source": [
    "# verificando o acesso a url\n",
    "response = requests.get(url)\n",
    "print(response)"
   ]
  },
  {
   "cell_type": "code",
   "execution_count": 105,
   "id": "40d4899d",
   "metadata": {},
   "outputs": [
    {
     "data": {
      "text/plain": [
       "dict_keys(['adult', 'backdrop_path', 'belongs_to_collection', 'budget', 'genres', 'homepage', 'id', 'imdb_id', 'original_language', 'original_title', 'overview', 'popularity', 'poster_path', 'production_companies', 'production_countries', 'release_date', 'revenue', 'runtime', 'spoken_languages', 'status', 'tagline', 'title', 'video', 'vote_average', 'vote_count'])"
      ]
     },
     "execution_count": 105,
     "metadata": {},
     "output_type": "execute_result"
    }
   ],
   "source": [
    "# retornando os dados da API e transformando no formato json\n",
    "dict_text = json.loads(response.text)\n",
    "\n",
    "# extraindo as chaves dos filmes para posteriormente se tornarem as variaveis do dataframe\n",
    "dict_text.keys()"
   ]
  },
  {
   "cell_type": "markdown",
   "id": "89c1d479",
   "metadata": {},
   "source": [
    "Para extrair as informações precisamos do id dos filmes que queremos, que serão filmes lançados em 2019 a 2021 nesta base de dados, assim vamos utilizar o módulo tmdbv3api (link de informações abaixo) para acessar a api e trazer os ids dos filmes.\n",
    "https://github.com/AnthonyBloomer/tmdbv3api"
   ]
  },
  {
   "cell_type": "code",
   "execution_count": 39,
   "id": "50bcf4ac",
   "metadata": {},
   "outputs": [
    {
     "name": "stdout",
     "output_type": "stream",
     "text": [
      "Collecting tmdbv3api\n",
      "  Downloading tmdbv3api-1.7.7-py2.py3-none-any.whl (18 kB)\n",
      "Requirement already satisfied: requests in c:\\users\\prpau\\anaconda3\\lib\\site-packages (from tmdbv3api) (2.27.1)\n",
      "Requirement already satisfied: certifi>=2017.4.17 in c:\\users\\prpau\\anaconda3\\lib\\site-packages (from requests->tmdbv3api) (2021.10.8)\n",
      "Requirement already satisfied: idna<4,>=2.5 in c:\\users\\prpau\\anaconda3\\lib\\site-packages (from requests->tmdbv3api) (3.3)\n",
      "Requirement already satisfied: urllib3<1.27,>=1.21.1 in c:\\users\\prpau\\anaconda3\\lib\\site-packages (from requests->tmdbv3api) (1.26.9)\n",
      "Requirement already satisfied: charset-normalizer~=2.0.0 in c:\\users\\prpau\\anaconda3\\lib\\site-packages (from requests->tmdbv3api) (2.0.4)\n",
      "Installing collected packages: tmdbv3api\n",
      "Successfully installed tmdbv3api-1.7.7\n",
      "Note: you may need to restart the kernel to use updated packages.\n"
     ]
    }
   ],
   "source": [
    "pip install tmdbv3api\n"
   ]
  },
  {
   "cell_type": "code",
   "execution_count": 115,
   "id": "c262857b",
   "metadata": {},
   "outputs": [],
   "source": [
    "# instanciando a classe para dar acesso a API com a chave\n",
    "tmdb = TMDb()\n",
    "tmdb.api_key = 'd2dee50252ec42a906562d4f3c43dfb0'"
   ]
  },
  {
   "cell_type": "code",
   "execution_count": 44,
   "id": "9dd77156",
   "metadata": {},
   "outputs": [
    {
     "name": "stdout",
     "output_type": "stream",
     "text": [
      "<Response [200]>\n"
     ]
    }
   ],
   "source": [
    "# filmes de 2019\n",
    "url_2019 = 'https://en.wikipedia.org/wiki/List_of_American_films_of_2019'\n",
    "response = requests.get(url_2019)\n",
    "print(response)"
   ]
  },
  {
   "cell_type": "markdown",
   "id": "5c01d390",
   "metadata": {},
   "source": [
    "Vamos formar um dataframe com os filmes dos anos 2019,2020,2021 coletando a partir de uma lista no wikipedia."
   ]
  },
  {
   "cell_type": "code",
   "execution_count": 223,
   "id": "50c9e9b7",
   "metadata": {},
   "outputs": [
    {
     "name": "stderr",
     "output_type": "stream",
     "text": [
      "C:\\Users\\prpau\\AppData\\Local\\Temp\\ipykernel_12032\\3210825781.py:21: FutureWarning: The frame.append method is deprecated and will be removed from pandas in a future version. Use pandas.concat instead.\n",
      "  df = df1.append(df2.append(df3.append(df4, ignore_index = False)))\n",
      "C:\\Users\\prpau\\AppData\\Local\\Temp\\ipykernel_12032\\3210825781.py:21: FutureWarning: The frame.append method is deprecated and will be removed from pandas in a future version. Use pandas.concat instead.\n",
      "  df = df1.append(df2.append(df3.append(df4, ignore_index = False)))\n",
      "C:\\Users\\prpau\\AppData\\Local\\Temp\\ipykernel_12032\\3210825781.py:21: FutureWarning: The frame.append method is deprecated and will be removed from pandas in a future version. Use pandas.concat instead.\n",
      "  df = df1.append(df2.append(df3.append(df4, ignore_index = False)))\n",
      "C:\\Users\\prpau\\AppData\\Local\\Temp\\ipykernel_12032\\3210825781.py:21: FutureWarning: The frame.append method is deprecated and will be removed from pandas in a future version. Use pandas.concat instead.\n",
      "  df = df1.append(df2.append(df3.append(df4, ignore_index = False)))\n",
      "C:\\Users\\prpau\\AppData\\Local\\Temp\\ipykernel_12032\\3210825781.py:21: FutureWarning: The frame.append method is deprecated and will be removed from pandas in a future version. Use pandas.concat instead.\n",
      "  df = df1.append(df2.append(df3.append(df4, ignore_index = False)))\n",
      "C:\\Users\\prpau\\AppData\\Local\\Temp\\ipykernel_12032\\3210825781.py:21: FutureWarning: The frame.append method is deprecated and will be removed from pandas in a future version. Use pandas.concat instead.\n",
      "  df = df1.append(df2.append(df3.append(df4, ignore_index = False)))\n"
     ]
    }
   ],
   "source": [
    "anos = [2019,2020,2021]\n",
    "\n",
    "df_geral = pd.DataFrame()\n",
    "\n",
    "\n",
    "for i in range(len(anos)):\n",
    "    \n",
    "    try:\n",
    "        \n",
    "        # url do wikipedia para onde contem a lista de filmes\n",
    "        url = f'https://en.wikipedia.org/wiki/List_of_American_films_of_{anos[i]}'\n",
    "        response = requests.get(url)\n",
    "        \n",
    "        # os indices trazem os dados dos filmes a cada 3 meses, por isso são 4 dataframes para o ano\n",
    "        df1 = pd.read_html(url, header=0)[2]\n",
    "        df2 = pd.read_html(url, header=0)[3]\n",
    "        df3 = pd.read_html(url, header=0)[4]\n",
    "        df4 = pd.read_html(url, header=0)[5]\n",
    "        \n",
    "        # juntando os dataframes\n",
    "        df = df1.append(df2.append(df3.append(df4, ignore_index = False)))\n",
    "        \n",
    "        df = df['Title']\n",
    "        \n",
    "        colunas = [df_geral, df]\n",
    "        df_geral = pd.concat(colunas)\n",
    "        \n",
    "    except:\n",
    "        continue"
   ]
  },
  {
   "cell_type": "code",
   "execution_count": 224,
   "id": "06188d96",
   "metadata": {},
   "outputs": [
    {
     "data": {
      "text/html": [
       "<div>\n",
       "<style scoped>\n",
       "    .dataframe tbody tr th:only-of-type {\n",
       "        vertical-align: middle;\n",
       "    }\n",
       "\n",
       "    .dataframe tbody tr th {\n",
       "        vertical-align: top;\n",
       "    }\n",
       "\n",
       "    .dataframe thead th {\n",
       "        text-align: right;\n",
       "    }\n",
       "</style>\n",
       "<table border=\"1\" class=\"dataframe\">\n",
       "  <thead>\n",
       "    <tr style=\"text-align: right;\">\n",
       "      <th></th>\n",
       "      <th>0</th>\n",
       "    </tr>\n",
       "  </thead>\n",
       "  <tbody>\n",
       "    <tr>\n",
       "      <th>0</th>\n",
       "      <td>Escape Room</td>\n",
       "    </tr>\n",
       "    <tr>\n",
       "      <th>1</th>\n",
       "      <td>Rust Creek</td>\n",
       "    </tr>\n",
       "    <tr>\n",
       "      <th>2</th>\n",
       "      <td>American Hangman</td>\n",
       "    </tr>\n",
       "    <tr>\n",
       "      <th>3</th>\n",
       "      <td>A Dog's Way Home</td>\n",
       "    </tr>\n",
       "    <tr>\n",
       "      <th>4</th>\n",
       "      <td>The Upside</td>\n",
       "    </tr>\n",
       "  </tbody>\n",
       "</table>\n",
       "</div>"
      ],
      "text/plain": [
       "                  0\n",
       "0       Escape Room\n",
       "1        Rust Creek\n",
       "2  American Hangman\n",
       "3  A Dog's Way Home\n",
       "4        The Upside"
      ]
     },
     "execution_count": 224,
     "metadata": {},
     "output_type": "execute_result"
    }
   ],
   "source": [
    "df_geral.head()"
   ]
  },
  {
   "cell_type": "code",
   "execution_count": 225,
   "id": "9fe6b404",
   "metadata": {},
   "outputs": [
    {
     "data": {
      "text/html": [
       "<div>\n",
       "<style scoped>\n",
       "    .dataframe tbody tr th:only-of-type {\n",
       "        vertical-align: middle;\n",
       "    }\n",
       "\n",
       "    .dataframe tbody tr th {\n",
       "        vertical-align: top;\n",
       "    }\n",
       "\n",
       "    .dataframe thead th {\n",
       "        text-align: right;\n",
       "    }\n",
       "</style>\n",
       "<table border=\"1\" class=\"dataframe\">\n",
       "  <thead>\n",
       "    <tr style=\"text-align: right;\">\n",
       "      <th></th>\n",
       "      <th>Title</th>\n",
       "    </tr>\n",
       "  </thead>\n",
       "  <tbody>\n",
       "    <tr>\n",
       "      <th>0</th>\n",
       "      <td>Escape Room</td>\n",
       "    </tr>\n",
       "    <tr>\n",
       "      <th>1</th>\n",
       "      <td>Rust Creek</td>\n",
       "    </tr>\n",
       "    <tr>\n",
       "      <th>2</th>\n",
       "      <td>American Hangman</td>\n",
       "    </tr>\n",
       "    <tr>\n",
       "      <th>3</th>\n",
       "      <td>A Dog's Way Home</td>\n",
       "    </tr>\n",
       "    <tr>\n",
       "      <th>4</th>\n",
       "      <td>The Upside</td>\n",
       "    </tr>\n",
       "  </tbody>\n",
       "</table>\n",
       "</div>"
      ],
      "text/plain": [
       "              Title\n",
       "0       Escape Room\n",
       "1        Rust Creek\n",
       "2  American Hangman\n",
       "3  A Dog's Way Home\n",
       "4        The Upside"
      ]
     },
     "execution_count": 225,
     "metadata": {},
     "output_type": "execute_result"
    }
   ],
   "source": [
    "df_geral.rename(columns = {0: 'Title'}, inplace = True)\n",
    "df_geral.head()"
   ]
  },
  {
   "cell_type": "markdown",
   "id": "df222f1b",
   "metadata": {},
   "source": [
    "Vamos incluir o id no dataset através de uma função que instancia uma classe do módulo tmdbv3api"
   ]
  },
  {
   "cell_type": "code",
   "execution_count": 227,
   "id": "cf53bb25",
   "metadata": {},
   "outputs": [],
   "source": [
    "# função que retorna o id atraves do nome do filme\n",
    "def get_id_movie (title):\n",
    "    try:\n",
    "        \n",
    "        tmdb_movie = Movie()\n",
    "        movie = tmdb_movie.search(title)\n",
    "        return movie[0].id\n",
    "    except:\n",
    "        return None\n",
    "    "
   ]
  },
  {
   "cell_type": "code",
   "execution_count": 228,
   "id": "42574db5",
   "metadata": {},
   "outputs": [],
   "source": [
    "# incluindo a com id dos filmes coletados na API pela função get_id_movie\n",
    "df_geral['id'] = df_geral['Title'].map(lambda x: get_id_movie(str(x)))"
   ]
  },
  {
   "cell_type": "code",
   "execution_count": 229,
   "id": "3511a0ff",
   "metadata": {},
   "outputs": [
    {
     "data": {
      "text/plain": [
       "881"
      ]
     },
     "execution_count": 229,
     "metadata": {},
     "output_type": "execute_result"
    }
   ],
   "source": [
    "len(df_geral)"
   ]
  },
  {
   "cell_type": "code",
   "execution_count": 234,
   "id": "a1a72873",
   "metadata": {},
   "outputs": [
    {
     "data": {
      "text/plain": [
       "0     522681.0\n",
       "1     561362.0\n",
       "2     567738.0\n",
       "3     508763.0\n",
       "4     440472.0\n",
       "        ...   \n",
       "93    591538.0\n",
       "94    501841.0\n",
       "95    673309.0\n",
       "96    511819.0\n",
       "97    285305.0\n",
       "Name: id, Length: 881, dtype: float64"
      ]
     },
     "execution_count": 234,
     "metadata": {},
     "output_type": "execute_result"
    }
   ],
   "source": [
    "df_geral['id']"
   ]
  },
  {
   "cell_type": "code",
   "execution_count": 235,
   "id": "f7708a67",
   "metadata": {},
   "outputs": [
    {
     "data": {
      "text/plain": [
       "['adult',\n",
       " 'backdrop_path',\n",
       " 'belongs_to_collection',\n",
       " 'budget',\n",
       " 'genres',\n",
       " 'homepage',\n",
       " 'original_language',\n",
       " 'original_title',\n",
       " 'overview',\n",
       " 'popularity',\n",
       " 'poster_path',\n",
       " 'production_companies',\n",
       " 'production_countries',\n",
       " 'release_date',\n",
       " 'revenue',\n",
       " 'runtime',\n",
       " 'spoken_languages',\n",
       " 'status',\n",
       " 'tagline',\n",
       " 'video',\n",
       " 'vote_average',\n",
       " 'vote_count']"
      ]
     },
     "execution_count": 235,
     "metadata": {},
     "output_type": "execute_result"
    }
   ],
   "source": [
    "# separando as colunas para coletar os dados\n",
    "lista_colunas = list(dict_text.keys())\n",
    "lista_colunas.remove('id')\n",
    "lista_colunas.remove('imdb_id')\n",
    "lista_colunas.remove('title')\n",
    "\n",
    "lista_colunas\n"
   ]
  },
  {
   "cell_type": "code",
   "execution_count": 239,
   "id": "fdcc64ad",
   "metadata": {},
   "outputs": [],
   "source": [
    "# função que retorna os dados da coluna solicitada na API atraves do filme buscado\n",
    "\n",
    "def get_columns(column, movie):\n",
    "    try:\n",
    "        response = requests.get('https://api.themoviedb.org/3/movie/{}?api_key={}'.format(movie, tmdb.api_key))\n",
    "        data_j = response.json()\n",
    "        return data_j[column]\n",
    "    except:\n",
    "        return None\n",
    "\n"
   ]
  },
  {
   "cell_type": "code",
   "execution_count": 240,
   "id": "011e48e6",
   "metadata": {},
   "outputs": [],
   "source": [
    "# aplicação da função get_columns e adicionando ao dataframe\n",
    "\n",
    "for i in lista_colunas:\n",
    "    \n",
    "    df_geral[i] = df_geral['id'].map(lambda x: get_columns(i, x))"
   ]
  },
  {
   "cell_type": "code",
   "execution_count": 241,
   "id": "12188a52",
   "metadata": {
    "scrolled": true
   },
   "outputs": [
    {
     "data": {
      "text/html": [
       "<div>\n",
       "<style scoped>\n",
       "    .dataframe tbody tr th:only-of-type {\n",
       "        vertical-align: middle;\n",
       "    }\n",
       "\n",
       "    .dataframe tbody tr th {\n",
       "        vertical-align: top;\n",
       "    }\n",
       "\n",
       "    .dataframe thead th {\n",
       "        text-align: right;\n",
       "    }\n",
       "</style>\n",
       "<table border=\"1\" class=\"dataframe\">\n",
       "  <thead>\n",
       "    <tr style=\"text-align: right;\">\n",
       "      <th></th>\n",
       "      <th>Title</th>\n",
       "      <th>id</th>\n",
       "      <th>adult</th>\n",
       "      <th>backdrop_path</th>\n",
       "      <th>belongs_to_collection</th>\n",
       "      <th>budget</th>\n",
       "      <th>genres</th>\n",
       "      <th>homepage</th>\n",
       "      <th>original_language</th>\n",
       "      <th>original_title</th>\n",
       "      <th>...</th>\n",
       "      <th>production_countries</th>\n",
       "      <th>release_date</th>\n",
       "      <th>revenue</th>\n",
       "      <th>runtime</th>\n",
       "      <th>spoken_languages</th>\n",
       "      <th>status</th>\n",
       "      <th>tagline</th>\n",
       "      <th>video</th>\n",
       "      <th>vote_average</th>\n",
       "      <th>vote_count</th>\n",
       "    </tr>\n",
       "  </thead>\n",
       "  <tbody>\n",
       "    <tr>\n",
       "      <th>0</th>\n",
       "      <td>Escape Room</td>\n",
       "      <td>522681.0</td>\n",
       "      <td>False</td>\n",
       "      <td>/mWLljCmpqlcYQh7uh51BBMwCZwN.jpg</td>\n",
       "      <td>{'id': 769423, 'name': 'Escape Room Collection...</td>\n",
       "      <td>9000000.0</td>\n",
       "      <td>[{'id': 27, 'name': 'Horror'}, {'id': 53, 'nam...</td>\n",
       "      <td>https://www.escaperoom.movie/</td>\n",
       "      <td>en</td>\n",
       "      <td>Escape Room</td>\n",
       "      <td>...</td>\n",
       "      <td>[{'iso_3166_1': 'US', 'name': 'United States o...</td>\n",
       "      <td>2019-01-03</td>\n",
       "      <td>155712077.0</td>\n",
       "      <td>100.0</td>\n",
       "      <td>[{'english_name': 'English', 'iso_639_1': 'en'...</td>\n",
       "      <td>Released</td>\n",
       "      <td>Find The Clues Or Die</td>\n",
       "      <td>False</td>\n",
       "      <td>6.544</td>\n",
       "      <td>3961.0</td>\n",
       "    </tr>\n",
       "    <tr>\n",
       "      <th>1</th>\n",
       "      <td>Rust Creek</td>\n",
       "      <td>561362.0</td>\n",
       "      <td>False</td>\n",
       "      <td>/xmLLkEhqIw0Me0wgO9ZhtP0MW7U.jpg</td>\n",
       "      <td>None</td>\n",
       "      <td>750000.0</td>\n",
       "      <td>[{'id': 53, 'name': 'Thriller'}, {'id': 18, 'n...</td>\n",
       "      <td>http://www.rustcreek.com</td>\n",
       "      <td>en</td>\n",
       "      <td>Rust Creek</td>\n",
       "      <td>...</td>\n",
       "      <td>[{'iso_3166_1': 'US', 'name': 'United States o...</td>\n",
       "      <td>2019-01-04</td>\n",
       "      <td>0.0</td>\n",
       "      <td>108.0</td>\n",
       "      <td>[{'english_name': 'English', 'iso_639_1': 'en'...</td>\n",
       "      <td>Released</td>\n",
       "      <td>Choose your prey carefully</td>\n",
       "      <td>False</td>\n",
       "      <td>6.409</td>\n",
       "      <td>248.0</td>\n",
       "    </tr>\n",
       "    <tr>\n",
       "      <th>2</th>\n",
       "      <td>American Hangman</td>\n",
       "      <td>567738.0</td>\n",
       "      <td>False</td>\n",
       "      <td>/1iUuWGnywpwgcoHQ1LS6TzXtqLt.jpg</td>\n",
       "      <td>None</td>\n",
       "      <td>0.0</td>\n",
       "      <td>[{'id': 53, 'name': 'Thriller'}]</td>\n",
       "      <td></td>\n",
       "      <td>en</td>\n",
       "      <td>American Hangman</td>\n",
       "      <td>...</td>\n",
       "      <td>[{'iso_3166_1': 'CA', 'name': 'Canada'}]</td>\n",
       "      <td>2019-01-04</td>\n",
       "      <td>0.0</td>\n",
       "      <td>99.0</td>\n",
       "      <td>[{'english_name': 'English', 'iso_639_1': 'en'...</td>\n",
       "      <td>Released</td>\n",
       "      <td>A new kind of trial</td>\n",
       "      <td>False</td>\n",
       "      <td>6.100</td>\n",
       "      <td>120.0</td>\n",
       "    </tr>\n",
       "    <tr>\n",
       "      <th>3</th>\n",
       "      <td>A Dog's Way Home</td>\n",
       "      <td>508763.0</td>\n",
       "      <td>False</td>\n",
       "      <td>/w7MsyOpP003FYhsiTgVHa3rNsrz.jpg</td>\n",
       "      <td>None</td>\n",
       "      <td>18000000.0</td>\n",
       "      <td>[{'id': 18, 'name': 'Drama'}, {'id': 12, 'name...</td>\n",
       "      <td>http://www.adogswayhome.movie/</td>\n",
       "      <td>en</td>\n",
       "      <td>A Dog's Way Home</td>\n",
       "      <td>...</td>\n",
       "      <td>[{'iso_3166_1': 'US', 'name': 'United States o...</td>\n",
       "      <td>2019-01-10</td>\n",
       "      <td>17643857.0</td>\n",
       "      <td>96.0</td>\n",
       "      <td>[{'english_name': 'English', 'iso_639_1': 'en'...</td>\n",
       "      <td>Released</td>\n",
       "      <td>A lot can happen between lost and found.</td>\n",
       "      <td>False</td>\n",
       "      <td>7.309</td>\n",
       "      <td>941.0</td>\n",
       "    </tr>\n",
       "    <tr>\n",
       "      <th>4</th>\n",
       "      <td>The Upside</td>\n",
       "      <td>440472.0</td>\n",
       "      <td>False</td>\n",
       "      <td>/4lQQVRLc7OCEFH6OUaMztwiFPbQ.jpg</td>\n",
       "      <td>None</td>\n",
       "      <td>37500000.0</td>\n",
       "      <td>[{'id': 35, 'name': 'Comedy'}, {'id': 18, 'nam...</td>\n",
       "      <td>http://www.theupside.movie/</td>\n",
       "      <td>en</td>\n",
       "      <td>The Upside</td>\n",
       "      <td>...</td>\n",
       "      <td>[{'iso_3166_1': 'US', 'name': 'United States o...</td>\n",
       "      <td>2019-01-10</td>\n",
       "      <td>111353135.0</td>\n",
       "      <td>126.0</td>\n",
       "      <td>[{'english_name': 'English', 'iso_639_1': 'en'...</td>\n",
       "      <td>Released</td>\n",
       "      <td>Based on a true story.</td>\n",
       "      <td>False</td>\n",
       "      <td>7.117</td>\n",
       "      <td>1026.0</td>\n",
       "    </tr>\n",
       "  </tbody>\n",
       "</table>\n",
       "<p>5 rows × 24 columns</p>\n",
       "</div>"
      ],
      "text/plain": [
       "              Title        id  adult                     backdrop_path  \\\n",
       "0       Escape Room  522681.0  False  /mWLljCmpqlcYQh7uh51BBMwCZwN.jpg   \n",
       "1        Rust Creek  561362.0  False  /xmLLkEhqIw0Me0wgO9ZhtP0MW7U.jpg   \n",
       "2  American Hangman  567738.0  False  /1iUuWGnywpwgcoHQ1LS6TzXtqLt.jpg   \n",
       "3  A Dog's Way Home  508763.0  False  /w7MsyOpP003FYhsiTgVHa3rNsrz.jpg   \n",
       "4        The Upside  440472.0  False  /4lQQVRLc7OCEFH6OUaMztwiFPbQ.jpg   \n",
       "\n",
       "                               belongs_to_collection      budget  \\\n",
       "0  {'id': 769423, 'name': 'Escape Room Collection...   9000000.0   \n",
       "1                                               None    750000.0   \n",
       "2                                               None         0.0   \n",
       "3                                               None  18000000.0   \n",
       "4                                               None  37500000.0   \n",
       "\n",
       "                                              genres  \\\n",
       "0  [{'id': 27, 'name': 'Horror'}, {'id': 53, 'nam...   \n",
       "1  [{'id': 53, 'name': 'Thriller'}, {'id': 18, 'n...   \n",
       "2                   [{'id': 53, 'name': 'Thriller'}]   \n",
       "3  [{'id': 18, 'name': 'Drama'}, {'id': 12, 'name...   \n",
       "4  [{'id': 35, 'name': 'Comedy'}, {'id': 18, 'nam...   \n",
       "\n",
       "                         homepage original_language    original_title  ...  \\\n",
       "0   https://www.escaperoom.movie/                en       Escape Room  ...   \n",
       "1        http://www.rustcreek.com                en        Rust Creek  ...   \n",
       "2                                                en  American Hangman  ...   \n",
       "3  http://www.adogswayhome.movie/                en  A Dog's Way Home  ...   \n",
       "4     http://www.theupside.movie/                en        The Upside  ...   \n",
       "\n",
       "                                production_countries  release_date  \\\n",
       "0  [{'iso_3166_1': 'US', 'name': 'United States o...    2019-01-03   \n",
       "1  [{'iso_3166_1': 'US', 'name': 'United States o...    2019-01-04   \n",
       "2           [{'iso_3166_1': 'CA', 'name': 'Canada'}]    2019-01-04   \n",
       "3  [{'iso_3166_1': 'US', 'name': 'United States o...    2019-01-10   \n",
       "4  [{'iso_3166_1': 'US', 'name': 'United States o...    2019-01-10   \n",
       "\n",
       "       revenue runtime                                   spoken_languages  \\\n",
       "0  155712077.0   100.0  [{'english_name': 'English', 'iso_639_1': 'en'...   \n",
       "1          0.0   108.0  [{'english_name': 'English', 'iso_639_1': 'en'...   \n",
       "2          0.0    99.0  [{'english_name': 'English', 'iso_639_1': 'en'...   \n",
       "3   17643857.0    96.0  [{'english_name': 'English', 'iso_639_1': 'en'...   \n",
       "4  111353135.0   126.0  [{'english_name': 'English', 'iso_639_1': 'en'...   \n",
       "\n",
       "     status                                   tagline  video vote_average  \\\n",
       "0  Released                     Find The Clues Or Die  False        6.544   \n",
       "1  Released                Choose your prey carefully  False        6.409   \n",
       "2  Released                       A new kind of trial  False        6.100   \n",
       "3  Released  A lot can happen between lost and found.  False        7.309   \n",
       "4  Released                    Based on a true story.  False        7.117   \n",
       "\n",
       "  vote_count  \n",
       "0     3961.0  \n",
       "1      248.0  \n",
       "2      120.0  \n",
       "3      941.0  \n",
       "4     1026.0  \n",
       "\n",
       "[5 rows x 24 columns]"
      ]
     },
     "execution_count": 241,
     "metadata": {},
     "output_type": "execute_result"
    }
   ],
   "source": [
    "df_geral.head()"
   ]
  },
  {
   "cell_type": "code",
   "execution_count": 242,
   "id": "cc98cc1e",
   "metadata": {},
   "outputs": [
    {
     "data": {
      "text/plain": [
       "(881, 24)"
      ]
     },
     "execution_count": 242,
     "metadata": {},
     "output_type": "execute_result"
    }
   ],
   "source": [
    "df_geral.shape"
   ]
  },
  {
   "cell_type": "code",
   "execution_count": 243,
   "id": "faef2694",
   "metadata": {},
   "outputs": [],
   "source": [
    "df_geral.to_csv('filmes.csv', sep = ';', index = False)"
   ]
  },
  {
   "cell_type": "markdown",
   "id": "cc07efaa",
   "metadata": {},
   "source": [
    "### 2ª base de dados\n",
    "\n",
    "A segunda base de dados esta no kaggle: https://www.kaggle.com/datasets/tmdb/tmdb-movie-metadata. "
   ]
  },
  {
   "cell_type": "markdown",
   "id": "7f273a6b",
   "metadata": {},
   "source": [
    "Dataset do kaggle para extrair\n",
    "https://www.kaggle.com/datasets/rounakbanik/the-movies-dataset?select=movies_metadata.csv"
   ]
  },
  {
   "cell_type": "code",
   "execution_count": 265,
   "id": "ffa06b5e",
   "metadata": {},
   "outputs": [
    {
     "data": {
      "text/plain": [
       "((4803, 20), (881, 24))"
      ]
     },
     "execution_count": 265,
     "metadata": {},
     "output_type": "execute_result"
    }
   ],
   "source": [
    "df_movies = pd.read_csv('tmdb_5000_movies.csv/tmdb_5000_movies.csv')\n",
    "df_movies.shape, df_geral.shape"
   ]
  },
  {
   "cell_type": "markdown",
   "id": "94b5db78",
   "metadata": {},
   "source": [
    "Há uma diferença nas colunas, vamos verificar quais."
   ]
  },
  {
   "cell_type": "code",
   "execution_count": 267,
   "id": "f6119c1c",
   "metadata": {},
   "outputs": [
    {
     "name": "stdout",
     "output_type": "stream",
     "text": [
      "Title\n",
      "adult\n",
      "backdrop_path\n",
      "belongs_to_collection\n",
      "poster_path\n",
      "video\n"
     ]
    }
   ],
   "source": [
    "\n",
    "for column in df_geral:\n",
    "    \n",
    "    if column in df_movies.columns:\n",
    "        pass\n",
    "    else:\n",
    "        print(column)"
   ]
  },
  {
   "cell_type": "markdown",
   "id": "c73ad34f",
   "metadata": {},
   "source": [
    "Das colunas diferentes, vamos permanecer apenas com Title (titulo do filme, o df_movie também possui esta variavel, mas com letras todas em minúsculas), e adult( se o filme é para adultos), as outras variaveis são endereços de imagens ou possuem muitos valores faltantes, então serão descartadas."
   ]
  },
  {
   "cell_type": "code",
   "execution_count": 280,
   "id": "2d98537e",
   "metadata": {},
   "outputs": [
    {
     "name": "stdout",
     "output_type": "stream",
     "text": [
      "keywords\n",
      "title\n"
     ]
    }
   ],
   "source": [
    "for column in df_movies:\n",
    "    \n",
    "    if column in df_geral.columns:\n",
    "        pass\n",
    "    else:\n",
    "        print(column)"
   ]
  },
  {
   "cell_type": "markdown",
   "id": "663640b6",
   "metadata": {},
   "source": [
    "Para que os datasets fiquem iguais nas variáveus vamos coletar keywords para inserir no df_geral e adult para inserir no df_movies antes de realizar o merge."
   ]
  },
  {
   "cell_type": "code",
   "execution_count": 278,
   "id": "202685e3",
   "metadata": {},
   "outputs": [
    {
     "data": {
      "text/plain": [
       "Index(['Title', 'id', 'adult', 'budget', 'genres', 'homepage',\n",
       "       'original_language', 'original_title', 'overview', 'popularity',\n",
       "       'production_companies', 'production_countries', 'release_date',\n",
       "       'revenue', 'runtime', 'spoken_languages', 'status', 'tagline',\n",
       "       'vote_average', 'vote_count'],\n",
       "      dtype='object')"
      ]
     },
     "execution_count": 278,
     "metadata": {},
     "output_type": "execute_result"
    }
   ],
   "source": [
    "df_geral.drop(['backdrop_path', 'belongs_to_collection', 'poster_path', 'video'], axis = 1, inplace = True)\n",
    "df_geral.columns"
   ]
  },
  {
   "cell_type": "code",
   "execution_count": 284,
   "id": "165239b3",
   "metadata": {},
   "outputs": [
    {
     "data": {
      "text/plain": [
       "Index(['title', 'id', 'adult', 'budget', 'genres', 'homepage',\n",
       "       'original_language', 'original_title', 'overview', 'popularity',\n",
       "       'production_companies', 'production_countries', 'release_date',\n",
       "       'revenue', 'runtime', 'spoken_languages', 'status', 'tagline',\n",
       "       'vote_average', 'vote_count'],\n",
       "      dtype='object')"
      ]
     },
     "execution_count": 284,
     "metadata": {},
     "output_type": "execute_result"
    }
   ],
   "source": [
    "df_geral.rename(columns = {'Title': 'title'}, inplace = True)\n",
    "df_geral.columns"
   ]
  },
  {
   "cell_type": "code",
   "execution_count": 286,
   "id": "52df5bcf",
   "metadata": {},
   "outputs": [],
   "source": [
    "def get_adult(movie):\n",
    "    \n",
    "    try:\n",
    "        response = requests.get('https://api.themoviedb.org/3/movie/{}?api_key={}'.format(movie, tmdb.api_key))\n",
    "        data_j = response.json()\n",
    "        return data_j['adult']\n",
    "    \n",
    "    except:\n",
    "        return None\n",
    "    \n",
    "\n",
    "def get_keywords(movie):\n",
    "    \n",
    "    try:\n",
    "        response = requests.get('https://api.themoviedb.org/3/movie/{}/keywords?api_key={}'.format(movie, tmdb.api_key))\n",
    "        data_j = response.json()\n",
    "        return data_j['keywords']\n",
    "    \n",
    "    except:\n",
    "        return None"
   ]
  },
  {
   "cell_type": "code",
   "execution_count": null,
   "id": "72a9eca2",
   "metadata": {},
   "outputs": [],
   "source": [
    "df_geral['keywords'] = df_geral['id'].map(lambda x: get_keywords(str(x)))\n",
    "df_movies['adult'] = df_movies['id'].map(lambda x: get_adult(str(x)))"
   ]
  },
  {
   "cell_type": "code",
   "execution_count": 293,
   "id": "ffd76ff4",
   "metadata": {},
   "outputs": [],
   "source": []
  },
  {
   "cell_type": "code",
   "execution_count": 291,
   "id": "eb18a4c3",
   "metadata": {},
   "outputs": [
    {
     "data": {
      "text/plain": [
       "(5684, 21)"
      ]
     },
     "execution_count": 291,
     "metadata": {},
     "output_type": "execute_result"
    }
   ],
   "source": [
    "dataframes = [df_geral, df_movies]\n",
    "df_final = pd.concat(dataframes)\n",
    "df_final.shape"
   ]
  },
  {
   "cell_type": "code",
   "execution_count": 295,
   "id": "be148aba",
   "metadata": {},
   "outputs": [],
   "source": [
    "df_final.to_csv('filmes_completo.csv', sep = ';', index = False)"
   ]
  },
  {
   "cell_type": "code",
   "execution_count": null,
   "id": "0e6ae739",
   "metadata": {},
   "outputs": [],
   "source": [
    "######################################################"
   ]
  },
  {
   "cell_type": "code",
   "execution_count": null,
   "id": "05baa4a4",
   "metadata": {},
   "outputs": [],
   "source": []
  },
  {
   "cell_type": "code",
   "execution_count": null,
   "id": "3f0442d2",
   "metadata": {},
   "outputs": [],
   "source": []
  },
  {
   "cell_type": "code",
   "execution_count": 296,
   "id": "e2f80dc1",
   "metadata": {},
   "outputs": [],
   "source": [
    "'''\n",
    "def get_credits_crew(movie):\n",
    "    \n",
    "    try:\n",
    "        response = requests.get('https://api.themoviedb.org/3/movie/{}/credits?api_key={}'.format(movie, tmdb.api_key))\n",
    "        data_j = response.json()\n",
    "        return data_j['crew']\n",
    "    \n",
    "    except:\n",
    "        return None\n",
    "\n",
    "def get_credits_cast(movie):\n",
    "    \n",
    "    try:\n",
    "        response = requests.get('https://api.themoviedb.org/3/movie/{}/credits?api_key={}'.format(movie, tmdb.api_key))\n",
    "        data_j = response.json()\n",
    "        return data_j['cast']\n",
    "    \n",
    "    except:\n",
    "        return None"
   ]
  },
  {
   "cell_type": "code",
   "execution_count": null,
   "id": "540c2fd6",
   "metadata": {},
   "outputs": [],
   "source": [
    "'''\n",
    "df_final['crew'] = df_final['id'].map(lambda x: get_credits_crew(str(x)))\n",
    "df_final['cast'] = df_final['id'].map(lambda x: get_credits_cast(str(x)))"
   ]
  },
  {
   "cell_type": "markdown",
   "id": "944ddf46",
   "metadata": {},
   "source": [
    "### 3 base de dados\n",
    "Esta base possui dados de cast e crew que são elenco e todas as outras pessoas que trabalham no filme (produção, diretior, etc). Esta base também esta no kaggle: https://www.kaggle.com/datasets/tmdb/tmdb-movie-metadata"
   ]
  },
  {
   "cell_type": "code",
   "execution_count": 261,
   "id": "c77cb30d",
   "metadata": {},
   "outputs": [
    {
     "data": {
      "text/html": [
       "<div>\n",
       "<style scoped>\n",
       "    .dataframe tbody tr th:only-of-type {\n",
       "        vertical-align: middle;\n",
       "    }\n",
       "\n",
       "    .dataframe tbody tr th {\n",
       "        vertical-align: top;\n",
       "    }\n",
       "\n",
       "    .dataframe thead th {\n",
       "        text-align: right;\n",
       "    }\n",
       "</style>\n",
       "<table border=\"1\" class=\"dataframe\">\n",
       "  <thead>\n",
       "    <tr style=\"text-align: right;\">\n",
       "      <th></th>\n",
       "      <th>movie_id</th>\n",
       "      <th>title</th>\n",
       "      <th>cast</th>\n",
       "      <th>crew</th>\n",
       "    </tr>\n",
       "  </thead>\n",
       "  <tbody>\n",
       "    <tr>\n",
       "      <th>0</th>\n",
       "      <td>19995</td>\n",
       "      <td>Avatar</td>\n",
       "      <td>[{\"cast_id\": 242, \"character\": \"Jake Sully\", \"...</td>\n",
       "      <td>[{\"credit_id\": \"52fe48009251416c750aca23\", \"de...</td>\n",
       "    </tr>\n",
       "    <tr>\n",
       "      <th>1</th>\n",
       "      <td>285</td>\n",
       "      <td>Pirates of the Caribbean: At World's End</td>\n",
       "      <td>[{\"cast_id\": 4, \"character\": \"Captain Jack Spa...</td>\n",
       "      <td>[{\"credit_id\": \"52fe4232c3a36847f800b579\", \"de...</td>\n",
       "    </tr>\n",
       "    <tr>\n",
       "      <th>2</th>\n",
       "      <td>206647</td>\n",
       "      <td>Spectre</td>\n",
       "      <td>[{\"cast_id\": 1, \"character\": \"James Bond\", \"cr...</td>\n",
       "      <td>[{\"credit_id\": \"54805967c3a36829b5002c41\", \"de...</td>\n",
       "    </tr>\n",
       "    <tr>\n",
       "      <th>3</th>\n",
       "      <td>49026</td>\n",
       "      <td>The Dark Knight Rises</td>\n",
       "      <td>[{\"cast_id\": 2, \"character\": \"Bruce Wayne / Ba...</td>\n",
       "      <td>[{\"credit_id\": \"52fe4781c3a36847f81398c3\", \"de...</td>\n",
       "    </tr>\n",
       "    <tr>\n",
       "      <th>4</th>\n",
       "      <td>49529</td>\n",
       "      <td>John Carter</td>\n",
       "      <td>[{\"cast_id\": 5, \"character\": \"John Carter\", \"c...</td>\n",
       "      <td>[{\"credit_id\": \"52fe479ac3a36847f813eaa3\", \"de...</td>\n",
       "    </tr>\n",
       "  </tbody>\n",
       "</table>\n",
       "</div>"
      ],
      "text/plain": [
       "   movie_id                                     title  \\\n",
       "0     19995                                    Avatar   \n",
       "1       285  Pirates of the Caribbean: At World's End   \n",
       "2    206647                                   Spectre   \n",
       "3     49026                     The Dark Knight Rises   \n",
       "4     49529                               John Carter   \n",
       "\n",
       "                                                cast  \\\n",
       "0  [{\"cast_id\": 242, \"character\": \"Jake Sully\", \"...   \n",
       "1  [{\"cast_id\": 4, \"character\": \"Captain Jack Spa...   \n",
       "2  [{\"cast_id\": 1, \"character\": \"James Bond\", \"cr...   \n",
       "3  [{\"cast_id\": 2, \"character\": \"Bruce Wayne / Ba...   \n",
       "4  [{\"cast_id\": 5, \"character\": \"John Carter\", \"c...   \n",
       "\n",
       "                                                crew  \n",
       "0  [{\"credit_id\": \"52fe48009251416c750aca23\", \"de...  \n",
       "1  [{\"credit_id\": \"52fe4232c3a36847f800b579\", \"de...  \n",
       "2  [{\"credit_id\": \"54805967c3a36829b5002c41\", \"de...  \n",
       "3  [{\"credit_id\": \"52fe4781c3a36847f81398c3\", \"de...  \n",
       "4  [{\"credit_id\": \"52fe479ac3a36847f813eaa3\", \"de...  "
      ]
     },
     "execution_count": 261,
     "metadata": {},
     "output_type": "execute_result"
    }
   ],
   "source": [
    "df_creditos = pd.read_csv(\"tmdb_5000_credits.csv/tmdb_5000_credits.csv\")\n",
    "df_creditos.head()"
   ]
  },
  {
   "cell_type": "code",
   "execution_count": null,
   "id": "7ae1a10d",
   "metadata": {},
   "outputs": [],
   "source": []
  },
  {
   "cell_type": "code",
   "execution_count": 306,
   "id": "f6f0ffe7",
   "metadata": {},
   "outputs": [
    {
     "data": {
      "text/html": [
       "<div>\n",
       "<style scoped>\n",
       "    .dataframe tbody tr th:only-of-type {\n",
       "        vertical-align: middle;\n",
       "    }\n",
       "\n",
       "    .dataframe tbody tr th {\n",
       "        vertical-align: top;\n",
       "    }\n",
       "\n",
       "    .dataframe thead th {\n",
       "        text-align: right;\n",
       "    }\n",
       "</style>\n",
       "<table border=\"1\" class=\"dataframe\">\n",
       "  <thead>\n",
       "    <tr style=\"text-align: right;\">\n",
       "      <th></th>\n",
       "      <th>id</th>\n",
       "      <th>cast</th>\n",
       "      <th>crew</th>\n",
       "    </tr>\n",
       "  </thead>\n",
       "  <tbody>\n",
       "    <tr>\n",
       "      <th>0</th>\n",
       "      <td>19995</td>\n",
       "      <td>[{\"cast_id\": 242, \"character\": \"Jake Sully\", \"...</td>\n",
       "      <td>[{\"credit_id\": \"52fe48009251416c750aca23\", \"de...</td>\n",
       "    </tr>\n",
       "    <tr>\n",
       "      <th>1</th>\n",
       "      <td>285</td>\n",
       "      <td>[{\"cast_id\": 4, \"character\": \"Captain Jack Spa...</td>\n",
       "      <td>[{\"credit_id\": \"52fe4232c3a36847f800b579\", \"de...</td>\n",
       "    </tr>\n",
       "    <tr>\n",
       "      <th>2</th>\n",
       "      <td>206647</td>\n",
       "      <td>[{\"cast_id\": 1, \"character\": \"James Bond\", \"cr...</td>\n",
       "      <td>[{\"credit_id\": \"54805967c3a36829b5002c41\", \"de...</td>\n",
       "    </tr>\n",
       "    <tr>\n",
       "      <th>3</th>\n",
       "      <td>49026</td>\n",
       "      <td>[{\"cast_id\": 2, \"character\": \"Bruce Wayne / Ba...</td>\n",
       "      <td>[{\"credit_id\": \"52fe4781c3a36847f81398c3\", \"de...</td>\n",
       "    </tr>\n",
       "    <tr>\n",
       "      <th>4</th>\n",
       "      <td>49529</td>\n",
       "      <td>[{\"cast_id\": 5, \"character\": \"John Carter\", \"c...</td>\n",
       "      <td>[{\"credit_id\": \"52fe479ac3a36847f813eaa3\", \"de...</td>\n",
       "    </tr>\n",
       "  </tbody>\n",
       "</table>\n",
       "</div>"
      ],
      "text/plain": [
       "       id                                               cast  \\\n",
       "0   19995  [{\"cast_id\": 242, \"character\": \"Jake Sully\", \"...   \n",
       "1     285  [{\"cast_id\": 4, \"character\": \"Captain Jack Spa...   \n",
       "2  206647  [{\"cast_id\": 1, \"character\": \"James Bond\", \"cr...   \n",
       "3   49026  [{\"cast_id\": 2, \"character\": \"Bruce Wayne / Ba...   \n",
       "4   49529  [{\"cast_id\": 5, \"character\": \"John Carter\", \"c...   \n",
       "\n",
       "                                                crew  \n",
       "0  [{\"credit_id\": \"52fe48009251416c750aca23\", \"de...  \n",
       "1  [{\"credit_id\": \"52fe4232c3a36847f800b579\", \"de...  \n",
       "2  [{\"credit_id\": \"54805967c3a36829b5002c41\", \"de...  \n",
       "3  [{\"credit_id\": \"52fe4781c3a36847f81398c3\", \"de...  \n",
       "4  [{\"credit_id\": \"52fe479ac3a36847f813eaa3\", \"de...  "
      ]
     },
     "execution_count": 306,
     "metadata": {},
     "output_type": "execute_result"
    }
   ],
   "source": [
    "# renomear a coluna de id para ficar igual ao df_final\n",
    "df_creditos.rename(columns = {'movie_id':'id'}, inplace = True)\n",
    "\n",
    "# este dataset ficará somente com as colunas de interesse e o id para o merge\n",
    "df_creditos.drop(columns = ['title'], inplace = True)\n",
    "df_creditos.head()"
   ]
  },
  {
   "cell_type": "code",
   "execution_count": 300,
   "id": "abc3e6fa",
   "metadata": {},
   "outputs": [
    {
     "data": {
      "text/plain": [
       "(4803, 4)"
      ]
     },
     "execution_count": 300,
     "metadata": {},
     "output_type": "execute_result"
    }
   ],
   "source": [
    "df_creditos.shape"
   ]
  },
  {
   "cell_type": "code",
   "execution_count": 257,
   "id": "5ee09a2c",
   "metadata": {},
   "outputs": [
    {
     "data": {
      "text/plain": [
       "dtype('float64')"
      ]
     },
     "execution_count": 257,
     "metadata": {},
     "output_type": "execute_result"
    }
   ],
   "source": [
    "try:\n",
    "    df_geral.id.astype('int64')\n",
    "except:\n",
    "    None\n",
    "df_geral.id.dtype"
   ]
  },
  {
   "cell_type": "code",
   "execution_count": 313,
   "id": "d380693e",
   "metadata": {},
   "outputs": [],
   "source": [
    "df_tmdb = df_final.merge(df_creditos, on = 'id')"
   ]
  },
  {
   "cell_type": "code",
   "execution_count": 314,
   "id": "cefc0650",
   "metadata": {},
   "outputs": [
    {
     "data": {
      "text/plain": [
       "(4819, 23)"
      ]
     },
     "execution_count": 314,
     "metadata": {},
     "output_type": "execute_result"
    }
   ],
   "source": [
    "df_tmdb.shape"
   ]
  },
  {
   "cell_type": "code",
   "execution_count": 316,
   "id": "fd1eef4d",
   "metadata": {},
   "outputs": [],
   "source": [
    "df_tmdb.to_csv('tmdb_movies_full.csv', sep = ';', index = False)"
   ]
  },
  {
   "cell_type": "code",
   "execution_count": 319,
   "id": "d8fd8271",
   "metadata": {},
   "outputs": [
    {
     "data": {
      "text/plain": [
       "(4819, 23)"
      ]
     },
     "execution_count": 319,
     "metadata": {},
     "output_type": "execute_result"
    }
   ],
   "source": []
  }
 ],
 "metadata": {
  "kernelspec": {
   "display_name": "Python 3 (ipykernel)",
   "language": "python",
   "name": "python3"
  },
  "language_info": {
   "codemirror_mode": {
    "name": "ipython",
    "version": 3
   },
   "file_extension": ".py",
   "mimetype": "text/x-python",
   "name": "python",
   "nbconvert_exporter": "python",
   "pygments_lexer": "ipython3",
   "version": "3.9.12"
  }
 },
 "nbformat": 4,
 "nbformat_minor": 5
}
