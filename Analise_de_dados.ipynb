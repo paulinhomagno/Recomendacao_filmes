{
 "cells": [
  {
   "cell_type": "code",
   "execution_count": 132,
   "id": "ad222770",
   "metadata": {},
   "outputs": [],
   "source": [
    "import pandas as pd\n",
    "import math\n",
    "import missingno\n",
    "import matplotlib.pyplot as plt"
   ]
  },
  {
   "cell_type": "code",
   "execution_count": 3,
   "id": "a9adaaa9",
   "metadata": {},
   "outputs": [
    {
     "data": {
      "text/html": [
       "<div>\n",
       "<style scoped>\n",
       "    .dataframe tbody tr th:only-of-type {\n",
       "        vertical-align: middle;\n",
       "    }\n",
       "\n",
       "    .dataframe tbody tr th {\n",
       "        vertical-align: top;\n",
       "    }\n",
       "\n",
       "    .dataframe thead th {\n",
       "        text-align: right;\n",
       "    }\n",
       "</style>\n",
       "<table border=\"1\" class=\"dataframe\">\n",
       "  <thead>\n",
       "    <tr style=\"text-align: right;\">\n",
       "      <th></th>\n",
       "      <th>title</th>\n",
       "      <th>id</th>\n",
       "      <th>adult</th>\n",
       "      <th>budget</th>\n",
       "      <th>genres</th>\n",
       "      <th>homepage</th>\n",
       "      <th>original_language</th>\n",
       "      <th>original_title</th>\n",
       "      <th>overview</th>\n",
       "      <th>popularity</th>\n",
       "      <th>...</th>\n",
       "      <th>revenue</th>\n",
       "      <th>runtime</th>\n",
       "      <th>spoken_languages</th>\n",
       "      <th>status</th>\n",
       "      <th>tagline</th>\n",
       "      <th>vote_average</th>\n",
       "      <th>vote_count</th>\n",
       "      <th>keywords</th>\n",
       "      <th>cast</th>\n",
       "      <th>crew</th>\n",
       "    </tr>\n",
       "  </thead>\n",
       "  <tbody>\n",
       "    <tr>\n",
       "      <th>0</th>\n",
       "      <td>Serenity</td>\n",
       "      <td>16320.0</td>\n",
       "      <td>False</td>\n",
       "      <td>39000000.0</td>\n",
       "      <td>[{'id': 878, 'name': 'Science Fiction'}, {'id'...</td>\n",
       "      <td>NaN</td>\n",
       "      <td>en</td>\n",
       "      <td>Serenity</td>\n",
       "      <td>When the renegade crew of Serenity agrees to h...</td>\n",
       "      <td>21.853000</td>\n",
       "      <td>...</td>\n",
       "      <td>38869464.0</td>\n",
       "      <td>119.0</td>\n",
       "      <td>[{'english_name': 'English', 'iso_639_1': 'en'...</td>\n",
       "      <td>Released</td>\n",
       "      <td>They aim to misbehave.</td>\n",
       "      <td>7.381</td>\n",
       "      <td>2981.0</td>\n",
       "      <td>[{'id': 779, 'name': 'martial arts'}, {'id': 1...</td>\n",
       "      <td>[{\"cast_id\": 3, \"character\": \"Mal\", \"credit_id...</td>\n",
       "      <td>[{\"credit_id\": \"52fe46c59251416c75082fe3\", \"de...</td>\n",
       "    </tr>\n",
       "    <tr>\n",
       "      <th>1</th>\n",
       "      <td>Serenity</td>\n",
       "      <td>16320.0</td>\n",
       "      <td>False</td>\n",
       "      <td>39000000.0</td>\n",
       "      <td>[{\"id\": 878, \"name\": \"Science Fiction\"}, {\"id\"...</td>\n",
       "      <td>NaN</td>\n",
       "      <td>en</td>\n",
       "      <td>Serenity</td>\n",
       "      <td>When the renegade crew of Serenity agrees to h...</td>\n",
       "      <td>45.388937</td>\n",
       "      <td>...</td>\n",
       "      <td>38869464.0</td>\n",
       "      <td>119.0</td>\n",
       "      <td>[{\"iso_639_1\": \"en\", \"name\": \"English\"}, {\"iso...</td>\n",
       "      <td>Released</td>\n",
       "      <td>Can't stop the signal.</td>\n",
       "      <td>7.400</td>\n",
       "      <td>1264.0</td>\n",
       "      <td>[{\"id\": 779, \"name\": \"martial arts\"}, {\"id\": 1...</td>\n",
       "      <td>[{\"cast_id\": 3, \"character\": \"Mal\", \"credit_id...</td>\n",
       "      <td>[{\"credit_id\": \"52fe46c59251416c75082fe3\", \"de...</td>\n",
       "    </tr>\n",
       "    <tr>\n",
       "      <th>2</th>\n",
       "      <td>The Kid</td>\n",
       "      <td>4244.0</td>\n",
       "      <td>False</td>\n",
       "      <td>65000000.0</td>\n",
       "      <td>[{'id': 14, 'name': 'Fantasy'}, {'id': 35, 'na...</td>\n",
       "      <td>http://movies.disney.com/the-kid</td>\n",
       "      <td>en</td>\n",
       "      <td>The Kid</td>\n",
       "      <td>Powerful businessman Russ Duritz is self-absor...</td>\n",
       "      <td>24.648000</td>\n",
       "      <td>...</td>\n",
       "      <td>110317580.0</td>\n",
       "      <td>104.0</td>\n",
       "      <td>[{'english_name': 'English', 'iso_639_1': 'en'...</td>\n",
       "      <td>Released</td>\n",
       "      <td>Nobody ever grows up quite like they imagined.</td>\n",
       "      <td>6.474</td>\n",
       "      <td>802.0</td>\n",
       "      <td>[{'id': 965, 'name': 'age difference'}, {'id':...</td>\n",
       "      <td>[{\"cast_id\": 1, \"character\": \"Russell Duritz\",...</td>\n",
       "      <td>[{\"credit_id\": \"52fe43b5c3a36847f806964b\", \"de...</td>\n",
       "    </tr>\n",
       "    <tr>\n",
       "      <th>3</th>\n",
       "      <td>The Kid</td>\n",
       "      <td>4244.0</td>\n",
       "      <td>False</td>\n",
       "      <td>65000000.0</td>\n",
       "      <td>[{\"id\": 14, \"name\": \"Fantasy\"}, {\"id\": 35, \"na...</td>\n",
       "      <td>http://movies.disney.com/the-kid</td>\n",
       "      <td>en</td>\n",
       "      <td>The Kid</td>\n",
       "      <td>Powerful businessman Russ Duritz is self-absor...</td>\n",
       "      <td>18.281798</td>\n",
       "      <td>...</td>\n",
       "      <td>69700000.0</td>\n",
       "      <td>104.0</td>\n",
       "      <td>[{\"iso_639_1\": \"en\", \"name\": \"English\"}]</td>\n",
       "      <td>Released</td>\n",
       "      <td>Nobody ever grows up quite like they imagined.</td>\n",
       "      <td>6.000</td>\n",
       "      <td>238.0</td>\n",
       "      <td>[{\"id\": 965, \"name\": \"age difference\"}, {\"id\":...</td>\n",
       "      <td>[{\"cast_id\": 1, \"character\": \"Russell Duritz\",...</td>\n",
       "      <td>[{\"credit_id\": \"52fe43b5c3a36847f806964b\", \"de...</td>\n",
       "    </tr>\n",
       "    <tr>\n",
       "      <th>4</th>\n",
       "      <td>Pet Sematary</td>\n",
       "      <td>8913.0</td>\n",
       "      <td>False</td>\n",
       "      <td>11500000.0</td>\n",
       "      <td>[{'id': 27, 'name': 'Horror'}, {'id': 18, 'nam...</td>\n",
       "      <td>NaN</td>\n",
       "      <td>en</td>\n",
       "      <td>Pet Sematary</td>\n",
       "      <td>Dr. Louis Creed's family moves into the countr...</td>\n",
       "      <td>36.157000</td>\n",
       "      <td>...</td>\n",
       "      <td>57469467.0</td>\n",
       "      <td>103.0</td>\n",
       "      <td>[{'english_name': 'English', 'iso_639_1': 'en'...</td>\n",
       "      <td>Released</td>\n",
       "      <td>Sometimes dead is better.</td>\n",
       "      <td>6.609</td>\n",
       "      <td>1768.0</td>\n",
       "      <td>[{'id': 818, 'name': 'based on novel or book'}...</td>\n",
       "      <td>[{\"cast_id\": 10, \"character\": \"Louis Creed\", \"...</td>\n",
       "      <td>[{\"credit_id\": \"52fe44c7c3a36847f80a989b\", \"de...</td>\n",
       "    </tr>\n",
       "  </tbody>\n",
       "</table>\n",
       "<p>5 rows × 23 columns</p>\n",
       "</div>"
      ],
      "text/plain": [
       "          title       id  adult      budget  \\\n",
       "0      Serenity  16320.0  False  39000000.0   \n",
       "1      Serenity  16320.0  False  39000000.0   \n",
       "2       The Kid   4244.0  False  65000000.0   \n",
       "3       The Kid   4244.0  False  65000000.0   \n",
       "4  Pet Sematary   8913.0  False  11500000.0   \n",
       "\n",
       "                                              genres  \\\n",
       "0  [{'id': 878, 'name': 'Science Fiction'}, {'id'...   \n",
       "1  [{\"id\": 878, \"name\": \"Science Fiction\"}, {\"id\"...   \n",
       "2  [{'id': 14, 'name': 'Fantasy'}, {'id': 35, 'na...   \n",
       "3  [{\"id\": 14, \"name\": \"Fantasy\"}, {\"id\": 35, \"na...   \n",
       "4  [{'id': 27, 'name': 'Horror'}, {'id': 18, 'nam...   \n",
       "\n",
       "                           homepage original_language original_title  \\\n",
       "0                               NaN                en       Serenity   \n",
       "1                               NaN                en       Serenity   \n",
       "2  http://movies.disney.com/the-kid                en        The Kid   \n",
       "3  http://movies.disney.com/the-kid                en        The Kid   \n",
       "4                               NaN                en   Pet Sematary   \n",
       "\n",
       "                                            overview  popularity  ...  \\\n",
       "0  When the renegade crew of Serenity agrees to h...   21.853000  ...   \n",
       "1  When the renegade crew of Serenity agrees to h...   45.388937  ...   \n",
       "2  Powerful businessman Russ Duritz is self-absor...   24.648000  ...   \n",
       "3  Powerful businessman Russ Duritz is self-absor...   18.281798  ...   \n",
       "4  Dr. Louis Creed's family moves into the countr...   36.157000  ...   \n",
       "\n",
       "       revenue runtime                                   spoken_languages  \\\n",
       "0   38869464.0   119.0  [{'english_name': 'English', 'iso_639_1': 'en'...   \n",
       "1   38869464.0   119.0  [{\"iso_639_1\": \"en\", \"name\": \"English\"}, {\"iso...   \n",
       "2  110317580.0   104.0  [{'english_name': 'English', 'iso_639_1': 'en'...   \n",
       "3   69700000.0   104.0           [{\"iso_639_1\": \"en\", \"name\": \"English\"}]   \n",
       "4   57469467.0   103.0  [{'english_name': 'English', 'iso_639_1': 'en'...   \n",
       "\n",
       "     status                                         tagline vote_average  \\\n",
       "0  Released                          They aim to misbehave.        7.381   \n",
       "1  Released                          Can't stop the signal.        7.400   \n",
       "2  Released  Nobody ever grows up quite like they imagined.        6.474   \n",
       "3  Released  Nobody ever grows up quite like they imagined.        6.000   \n",
       "4  Released                       Sometimes dead is better.        6.609   \n",
       "\n",
       "  vote_count                                           keywords  \\\n",
       "0     2981.0  [{'id': 779, 'name': 'martial arts'}, {'id': 1...   \n",
       "1     1264.0  [{\"id\": 779, \"name\": \"martial arts\"}, {\"id\": 1...   \n",
       "2      802.0  [{'id': 965, 'name': 'age difference'}, {'id':...   \n",
       "3      238.0  [{\"id\": 965, \"name\": \"age difference\"}, {\"id\":...   \n",
       "4     1768.0  [{'id': 818, 'name': 'based on novel or book'}...   \n",
       "\n",
       "                                                cast  \\\n",
       "0  [{\"cast_id\": 3, \"character\": \"Mal\", \"credit_id...   \n",
       "1  [{\"cast_id\": 3, \"character\": \"Mal\", \"credit_id...   \n",
       "2  [{\"cast_id\": 1, \"character\": \"Russell Duritz\",...   \n",
       "3  [{\"cast_id\": 1, \"character\": \"Russell Duritz\",...   \n",
       "4  [{\"cast_id\": 10, \"character\": \"Louis Creed\", \"...   \n",
       "\n",
       "                                                crew  \n",
       "0  [{\"credit_id\": \"52fe46c59251416c75082fe3\", \"de...  \n",
       "1  [{\"credit_id\": \"52fe46c59251416c75082fe3\", \"de...  \n",
       "2  [{\"credit_id\": \"52fe43b5c3a36847f806964b\", \"de...  \n",
       "3  [{\"credit_id\": \"52fe43b5c3a36847f806964b\", \"de...  \n",
       "4  [{\"credit_id\": \"52fe44c7c3a36847f80a989b\", \"de...  \n",
       "\n",
       "[5 rows x 23 columns]"
      ]
     },
     "execution_count": 3,
     "metadata": {},
     "output_type": "execute_result"
    }
   ],
   "source": [
    "df = pd.read_csv('tmdb_movies_full.csv', sep = ';')\n",
    "df.head()"
   ]
  },
  {
   "cell_type": "code",
   "execution_count": 73,
   "id": "056a77df",
   "metadata": {},
   "outputs": [
    {
     "name": "stdout",
     "output_type": "stream",
     "text": [
      "<class 'pandas.core.frame.DataFrame'>\n",
      "RangeIndex: 4819 entries, 0 to 4818\n",
      "Data columns (total 23 columns):\n",
      " #   Column                Non-Null Count  Dtype  \n",
      "---  ------                --------------  -----  \n",
      " 0   title                 4819 non-null   object \n",
      " 1   id                    4819 non-null   float64\n",
      " 2   adult                 4812 non-null   object \n",
      " 3   budget                4819 non-null   float64\n",
      " 4   genres                4819 non-null   object \n",
      " 5   homepage              1719 non-null   object \n",
      " 6   original_language     4819 non-null   object \n",
      " 7   original_title        4819 non-null   object \n",
      " 8   overview              4816 non-null   object \n",
      " 9   popularity            4819 non-null   float64\n",
      " 10  production_companies  4819 non-null   object \n",
      " 11  production_countries  4819 non-null   object \n",
      " 12  release_date          4818 non-null   object \n",
      " 13  revenue               4819 non-null   float64\n",
      " 14  runtime               4817 non-null   float64\n",
      " 15  spoken_languages      4819 non-null   object \n",
      " 16  status                4819 non-null   object \n",
      " 17  tagline               3974 non-null   object \n",
      " 18  vote_average          4819 non-null   float64\n",
      " 19  vote_count            4819 non-null   float64\n",
      " 20  keywords              4819 non-null   object \n",
      " 21  cast                  4819 non-null   object \n",
      " 22  crew                  4819 non-null   object \n",
      "dtypes: float64(7), object(16)\n",
      "memory usage: 866.0+ KB\n"
     ]
    }
   ],
   "source": [
    "df.info()"
   ]
  },
  {
   "cell_type": "markdown",
   "id": "690bd092",
   "metadata": {},
   "source": [
    "### Estatísticas iniciais"
   ]
  },
  {
   "cell_type": "code",
   "execution_count": 84,
   "id": "0876aac5",
   "metadata": {},
   "outputs": [
    {
     "data": {
      "text/html": [
       "<div>\n",
       "<style scoped>\n",
       "    .dataframe tbody tr th:only-of-type {\n",
       "        vertical-align: middle;\n",
       "    }\n",
       "\n",
       "    .dataframe tbody tr th {\n",
       "        vertical-align: top;\n",
       "    }\n",
       "\n",
       "    .dataframe thead th {\n",
       "        text-align: right;\n",
       "    }\n",
       "</style>\n",
       "<table border=\"1\" class=\"dataframe\">\n",
       "  <thead>\n",
       "    <tr style=\"text-align: right;\">\n",
       "      <th></th>\n",
       "      <th>id</th>\n",
       "      <th>budget</th>\n",
       "      <th>popularity</th>\n",
       "      <th>revenue</th>\n",
       "      <th>runtime</th>\n",
       "      <th>vote_average</th>\n",
       "      <th>vote_count</th>\n",
       "    </tr>\n",
       "  </thead>\n",
       "  <tbody>\n",
       "    <tr>\n",
       "      <th>count</th>\n",
       "      <td>4819.000000</td>\n",
       "      <td>4.819000e+03</td>\n",
       "      <td>4819.000000</td>\n",
       "      <td>4.819000e+03</td>\n",
       "      <td>4817.000000</td>\n",
       "      <td>4819.000000</td>\n",
       "      <td>4819.000000</td>\n",
       "    </tr>\n",
       "    <tr>\n",
       "      <th>mean</th>\n",
       "      <td>57275.696410</td>\n",
       "      <td>2.907809e+07</td>\n",
       "      <td>21.613727</td>\n",
       "      <td>8.246622e+07</td>\n",
       "      <td>106.860494</td>\n",
       "      <td>6.094072</td>\n",
       "      <td>698.228056</td>\n",
       "    </tr>\n",
       "    <tr>\n",
       "      <th>std</th>\n",
       "      <td>88868.484463</td>\n",
       "      <td>4.070742e+07</td>\n",
       "      <td>32.006046</td>\n",
       "      <td>1.629879e+08</td>\n",
       "      <td>22.598007</td>\n",
       "      <td>1.193938</td>\n",
       "      <td>1259.588990</td>\n",
       "    </tr>\n",
       "    <tr>\n",
       "      <th>min</th>\n",
       "      <td>5.000000</td>\n",
       "      <td>0.000000e+00</td>\n",
       "      <td>0.000000</td>\n",
       "      <td>0.000000e+00</td>\n",
       "      <td>0.000000</td>\n",
       "      <td>0.000000</td>\n",
       "      <td>0.000000</td>\n",
       "    </tr>\n",
       "    <tr>\n",
       "      <th>25%</th>\n",
       "      <td>9010.500000</td>\n",
       "      <td>8.000000e+05</td>\n",
       "      <td>4.694118</td>\n",
       "      <td>0.000000e+00</td>\n",
       "      <td>94.000000</td>\n",
       "      <td>5.600000</td>\n",
       "      <td>54.000000</td>\n",
       "    </tr>\n",
       "    <tr>\n",
       "      <th>50%</th>\n",
       "      <td>14623.000000</td>\n",
       "      <td>1.500000e+07</td>\n",
       "      <td>12.982319</td>\n",
       "      <td>1.929414e+07</td>\n",
       "      <td>103.000000</td>\n",
       "      <td>6.200000</td>\n",
       "      <td>237.000000</td>\n",
       "    </tr>\n",
       "    <tr>\n",
       "      <th>75%</th>\n",
       "      <td>58653.000000</td>\n",
       "      <td>4.000000e+07</td>\n",
       "      <td>28.482621</td>\n",
       "      <td>9.326450e+07</td>\n",
       "      <td>117.000000</td>\n",
       "      <td>6.800000</td>\n",
       "      <td>742.000000</td>\n",
       "    </tr>\n",
       "    <tr>\n",
       "      <th>max</th>\n",
       "      <td>459488.000000</td>\n",
       "      <td>3.800000e+08</td>\n",
       "      <td>875.581305</td>\n",
       "      <td>2.787965e+09</td>\n",
       "      <td>338.000000</td>\n",
       "      <td>10.000000</td>\n",
       "      <td>15930.000000</td>\n",
       "    </tr>\n",
       "  </tbody>\n",
       "</table>\n",
       "</div>"
      ],
      "text/plain": [
       "                  id        budget   popularity       revenue      runtime  \\\n",
       "count    4819.000000  4.819000e+03  4819.000000  4.819000e+03  4817.000000   \n",
       "mean    57275.696410  2.907809e+07    21.613727  8.246622e+07   106.860494   \n",
       "std     88868.484463  4.070742e+07    32.006046  1.629879e+08    22.598007   \n",
       "min         5.000000  0.000000e+00     0.000000  0.000000e+00     0.000000   \n",
       "25%      9010.500000  8.000000e+05     4.694118  0.000000e+00    94.000000   \n",
       "50%     14623.000000  1.500000e+07    12.982319  1.929414e+07   103.000000   \n",
       "75%     58653.000000  4.000000e+07    28.482621  9.326450e+07   117.000000   \n",
       "max    459488.000000  3.800000e+08   875.581305  2.787965e+09   338.000000   \n",
       "\n",
       "       vote_average    vote_count  \n",
       "count   4819.000000   4819.000000  \n",
       "mean       6.094072    698.228056  \n",
       "std        1.193938   1259.588990  \n",
       "min        0.000000      0.000000  \n",
       "25%        5.600000     54.000000  \n",
       "50%        6.200000    237.000000  \n",
       "75%        6.800000    742.000000  \n",
       "max       10.000000  15930.000000  "
      ]
     },
     "execution_count": 84,
     "metadata": {},
     "output_type": "execute_result"
    }
   ],
   "source": [
    "df.describe()"
   ]
  },
  {
   "cell_type": "code",
   "execution_count": 86,
   "id": "4dba2690",
   "metadata": {},
   "outputs": [
    {
     "data": {
      "text/html": [
       "<div>\n",
       "<style scoped>\n",
       "    .dataframe tbody tr th:only-of-type {\n",
       "        vertical-align: middle;\n",
       "    }\n",
       "\n",
       "    .dataframe tbody tr th {\n",
       "        vertical-align: top;\n",
       "    }\n",
       "\n",
       "    .dataframe thead th {\n",
       "        text-align: right;\n",
       "    }\n",
       "</style>\n",
       "<table border=\"1\" class=\"dataframe\">\n",
       "  <thead>\n",
       "    <tr style=\"text-align: right;\">\n",
       "      <th></th>\n",
       "      <th>title</th>\n",
       "      <th>adult</th>\n",
       "      <th>genres</th>\n",
       "      <th>homepage</th>\n",
       "      <th>original_language</th>\n",
       "      <th>original_title</th>\n",
       "      <th>overview</th>\n",
       "      <th>production_companies</th>\n",
       "      <th>production_countries</th>\n",
       "      <th>release_date</th>\n",
       "      <th>spoken_languages</th>\n",
       "      <th>status</th>\n",
       "      <th>tagline</th>\n",
       "      <th>keywords</th>\n",
       "      <th>cast</th>\n",
       "      <th>crew</th>\n",
       "    </tr>\n",
       "  </thead>\n",
       "  <tbody>\n",
       "    <tr>\n",
       "      <th>count</th>\n",
       "      <td>4819</td>\n",
       "      <td>4812</td>\n",
       "      <td>4819</td>\n",
       "      <td>1719</td>\n",
       "      <td>4819</td>\n",
       "      <td>4819</td>\n",
       "      <td>4816</td>\n",
       "      <td>4819</td>\n",
       "      <td>4819</td>\n",
       "      <td>4818</td>\n",
       "      <td>4819</td>\n",
       "      <td>4819</td>\n",
       "      <td>3974</td>\n",
       "      <td>4819</td>\n",
       "      <td>4819</td>\n",
       "      <td>4819</td>\n",
       "    </tr>\n",
       "    <tr>\n",
       "      <th>unique</th>\n",
       "      <td>4806</td>\n",
       "      <td>1</td>\n",
       "      <td>1190</td>\n",
       "      <td>1693</td>\n",
       "      <td>37</td>\n",
       "      <td>4801</td>\n",
       "      <td>4807</td>\n",
       "      <td>3712</td>\n",
       "      <td>474</td>\n",
       "      <td>3283</td>\n",
       "      <td>550</td>\n",
       "      <td>3</td>\n",
       "      <td>3947</td>\n",
       "      <td>4238</td>\n",
       "      <td>4761</td>\n",
       "      <td>4776</td>\n",
       "    </tr>\n",
       "    <tr>\n",
       "      <th>top</th>\n",
       "      <td>Serenity</td>\n",
       "      <td>False</td>\n",
       "      <td>[{\"id\": 18, \"name\": \"Drama\"}]</td>\n",
       "      <td>http://www.thehungergames.movie/</td>\n",
       "      <td>en</td>\n",
       "      <td>Serenity</td>\n",
       "      <td>When the renegade crew of Serenity agrees to h...</td>\n",
       "      <td>[]</td>\n",
       "      <td>[{\"iso_3166_1\": \"US\", \"name\": \"United States o...</td>\n",
       "      <td>2006-01-01</td>\n",
       "      <td>[{\"iso_639_1\": \"en\", \"name\": \"English\"}]</td>\n",
       "      <td>Released</td>\n",
       "      <td>Based on a true story.</td>\n",
       "      <td>[]</td>\n",
       "      <td>[]</td>\n",
       "      <td>[]</td>\n",
       "    </tr>\n",
       "    <tr>\n",
       "      <th>freq</th>\n",
       "      <td>2</td>\n",
       "      <td>4812</td>\n",
       "      <td>370</td>\n",
       "      <td>4</td>\n",
       "      <td>4521</td>\n",
       "      <td>2</td>\n",
       "      <td>2</td>\n",
       "      <td>351</td>\n",
       "      <td>2977</td>\n",
       "      <td>10</td>\n",
       "      <td>3171</td>\n",
       "      <td>4811</td>\n",
       "      <td>3</td>\n",
       "      <td>412</td>\n",
       "      <td>43</td>\n",
       "      <td>28</td>\n",
       "    </tr>\n",
       "  </tbody>\n",
       "</table>\n",
       "</div>"
      ],
      "text/plain": [
       "           title  adult                         genres  \\\n",
       "count       4819   4812                           4819   \n",
       "unique      4806      1                           1190   \n",
       "top     Serenity  False  [{\"id\": 18, \"name\": \"Drama\"}]   \n",
       "freq           2   4812                            370   \n",
       "\n",
       "                                homepage original_language original_title  \\\n",
       "count                               1719              4819           4819   \n",
       "unique                              1693                37           4801   \n",
       "top     http://www.thehungergames.movie/                en       Serenity   \n",
       "freq                                   4              4521              2   \n",
       "\n",
       "                                                 overview  \\\n",
       "count                                                4816   \n",
       "unique                                               4807   \n",
       "top     When the renegade crew of Serenity agrees to h...   \n",
       "freq                                                    2   \n",
       "\n",
       "       production_companies  \\\n",
       "count                  4819   \n",
       "unique                 3712   \n",
       "top                      []   \n",
       "freq                    351   \n",
       "\n",
       "                                     production_countries release_date  \\\n",
       "count                                                4819         4818   \n",
       "unique                                                474         3283   \n",
       "top     [{\"iso_3166_1\": \"US\", \"name\": \"United States o...   2006-01-01   \n",
       "freq                                                 2977           10   \n",
       "\n",
       "                                spoken_languages    status  \\\n",
       "count                                       4819      4819   \n",
       "unique                                       550         3   \n",
       "top     [{\"iso_639_1\": \"en\", \"name\": \"English\"}]  Released   \n",
       "freq                                        3171      4811   \n",
       "\n",
       "                       tagline keywords  cast  crew  \n",
       "count                     3974     4819  4819  4819  \n",
       "unique                    3947     4238  4761  4776  \n",
       "top     Based on a true story.       []    []    []  \n",
       "freq                         3      412    43    28  "
      ]
     },
     "execution_count": 86,
     "metadata": {},
     "output_type": "execute_result"
    }
   ],
   "source": [
    "#df.select_dtypes('object').describe()\n",
    "df.describe(include = 'O')"
   ]
  },
  {
   "cell_type": "markdown",
   "id": "a7b743db",
   "metadata": {},
   "source": [
    "No describe para as variáveis categóricas podemos ver contagem de dados, valores únicos, o valor mais recorrente e sua frequência"
   ]
  },
  {
   "cell_type": "markdown",
   "id": "18c33680",
   "metadata": {},
   "source": [
    "### Descrição das variáveis"
   ]
  },
  {
   "cell_type": "markdown",
   "id": "965a20a0",
   "metadata": {},
   "source": [
    "- id: código do filme.\n",
    "- title: Nome do filme.\n",
    "- adult: Se o filme é de faixa etária adulta +18.\n",
    "- budget: orçamento do filme em dólares.\n",
    "- genres: lista de dicionários com os gêneros associados ao filme.\n",
    "- homepage: site oficial do filme.\n",
    "- original_language: idioma original do filme.\n",
    "- original_title: título original do filme.\n",
    "- overview: sinopse do filme.\n",
    "- popularity: pontuação dada pelo TMDB.\n",
    "- production_companies: produtoras envolvidas na produção.\n",
    "- production_countries: lista de dicionários da nacionalidade das produtoras envolvidas.\n",
    "- release_date: data oficial de lançamento.\n",
    "- revenue: receita total do filme em dólares.\n",
    "- runtime: duração do filme em minutos.\n",
    "- spoken_languages: idiomas falados no filme.\n",
    "- status: situação do filme (lançado, anunciado,etc)\n",
    "- tagline: slogan do filme.\n",
    "- vote_average: avaliação média do filme.\n",
    "- vote_count: número de votos contabilizados.\n",
    "- keywords: palavras-chaves associadas ao filme.\n",
    "- cast: elenco do filme.\n",
    "- crew: equipe técnica e produção."
   ]
  },
  {
   "cell_type": "markdown",
   "id": "c142d8c8",
   "metadata": {},
   "source": [
    "### Analise inicial de dados faltantes"
   ]
  },
  {
   "cell_type": "code",
   "execution_count": 116,
   "id": "10b9df98",
   "metadata": {},
   "outputs": [
    {
     "data": {
      "text/plain": [
       "<AxesSubplot:>"
      ]
     },
     "execution_count": 116,
     "metadata": {},
     "output_type": "execute_result"
    },
    {
     "data": {
      "image/png": "[encoded data removed]",
      "text/plain": [
       "<Figure size 1440x720 with 2 Axes>"
      ]
     },
     "metadata": {
      "needs_background": "light"
     },
     "output_type": "display_data"
    }
   ],
   "source": [
    "# visualização dos dados faltantes em cada coluna\n",
    "missingno.matrix(df, figsize = (20,10))"
   ]
  },
  {
   "cell_type": "code",
   "execution_count": 118,
   "id": "a205d92c",
   "metadata": {},
   "outputs": [
    {
     "data": {
      "text/plain": [
       "homepage                3100\n",
       "tagline                  845\n",
       "adult                      7\n",
       "overview                   3\n",
       "runtime                    2\n",
       "release_date               1\n",
       "title                      0\n",
       "cast                       0\n",
       "keywords                   0\n",
       "vote_count                 0\n",
       "vote_average               0\n",
       "status                     0\n",
       "spoken_languages           0\n",
       "production_countries       0\n",
       "revenue                    0\n",
       "id                         0\n",
       "production_companies       0\n",
       "popularity                 0\n",
       "original_title             0\n",
       "original_language          0\n",
       "genres                     0\n",
       "budget                     0\n",
       "crew                       0\n",
       "dtype: int64"
      ]
     },
     "execution_count": 118,
     "metadata": {},
     "output_type": "execute_result"
    }
   ],
   "source": [
    "# dados faltantes em ordem decrescente\n",
    "df.isna().sum().sort_values(ascending = False)"
   ]
  },
  {
   "cell_type": "code",
   "execution_count": 124,
   "id": "f0b42b6f",
   "metadata": {},
   "outputs": [
    {
     "data": {
      "text/plain": [
       "homepage                64.328699\n",
       "tagline                 17.534758\n",
       "adult                    0.145258\n",
       "overview                 0.062254\n",
       "runtime                  0.041502\n",
       "release_date             0.020751\n",
       "title                    0.000000\n",
       "cast                     0.000000\n",
       "keywords                 0.000000\n",
       "vote_count               0.000000\n",
       "vote_average             0.000000\n",
       "status                   0.000000\n",
       "spoken_languages         0.000000\n",
       "production_countries     0.000000\n",
       "revenue                  0.000000\n",
       "id                       0.000000\n",
       "production_companies     0.000000\n",
       "popularity               0.000000\n",
       "original_title           0.000000\n",
       "original_language        0.000000\n",
       "genres                   0.000000\n",
       "budget                   0.000000\n",
       "crew                     0.000000\n",
       "dtype: float64"
      ]
     },
     "execution_count": 124,
     "metadata": {},
     "output_type": "execute_result"
    }
   ],
   "source": [
    "# percentual de dados faltantes por colunas\n",
    "linhas, colunas = df.shape\n",
    "perc_faltantes = df.isna().sum()/linhas * 100\n",
    "perc_faltantes.sort_values(ascending = False)"
   ]
  },
  {
   "cell_type": "markdown",
   "id": "09530441",
   "metadata": {},
   "source": [
    "### Dados duplicados"
   ]
  },
  {
   "cell_type": "code",
   "execution_count": 193,
   "id": "0164a363",
   "metadata": {},
   "outputs": [
    {
     "data": {
      "text/plain": [
       "10"
      ]
     },
     "execution_count": 193,
     "metadata": {},
     "output_type": "execute_result"
    }
   ],
   "source": [
    "df.duplicated(subset = ['id', 'title']).sum()"
   ]
  },
  {
   "cell_type": "code",
   "execution_count": 195,
   "id": "25f47e34",
   "metadata": {},
   "outputs": [],
   "source": [
    "df.drop_duplicates(subset = ['id', 'title'], inplace = True)"
   ]
  },
  {
   "cell_type": "markdown",
   "id": "6a02e865",
   "metadata": {},
   "source": [
    "### Análise da feautures"
   ]
  },
  {
   "cell_type": "code",
   "execution_count": 197,
   "id": "fe3a3330",
   "metadata": {},
   "outputs": [
    {
     "data": {
      "text/plain": [
       "(4809, 23)"
      ]
     },
     "execution_count": 197,
     "metadata": {},
     "output_type": "execute_result"
    }
   ],
   "source": [
    "df.shape"
   ]
  },
  {
   "cell_type": "code",
   "execution_count": 198,
   "id": "323c93a3",
   "metadata": {},
   "outputs": [
    {
     "data": {
      "text/plain": [
       "count    4.809000e+03\n",
       "mean     2.907534e+07\n",
       "std      4.073050e+07\n",
       "min      0.000000e+00\n",
       "25%      8.000000e+05\n",
       "50%      1.500000e+07\n",
       "75%      4.000000e+07\n",
       "max      3.800000e+08\n",
       "Name: budget, dtype: float64"
      ]
     },
     "execution_count": 198,
     "metadata": {},
     "output_type": "execute_result"
    }
   ],
   "source": [
    "df.budget.describe()"
   ]
  },
  {
   "cell_type": "code",
   "execution_count": 199,
   "id": "5aaee2da",
   "metadata": {},
   "outputs": [
    {
     "data": {
      "text/plain": [
       "<AxesSubplot:>"
      ]
     },
     "execution_count": 199,
     "metadata": {},
     "output_type": "execute_result"
    },
    {
     "data": {
      "image/png": "[encoded data removed]",
      "text/plain": [
       "<Figure size 432x288 with 1 Axes>"
      ]
     },
     "metadata": {
      "needs_background": "light"
     },
     "output_type": "display_data"
    }
   ],
   "source": [
    "df.boxplot('budget')"
   ]
  },
  {
   "cell_type": "markdown",
   "id": "fed71b02",
   "metadata": {},
   "source": [
    "A variável de orçamento possui muitos outliers, os dados apresentam um range muito grande de 0 até 380 milhoes (dólares). Pelo cálculo outlier, no boxplot, se observa que acima de 100 milhoes é considerado outlier. No percentil mostra que 75% dos dados estão abaixo de 40 milhões. Os percentis e o boxplot demonstram uma esperada distribuição não normal, com assimetria positiva, os dados de concentram em valores menores."
   ]
  },
  {
   "cell_type": "code",
   "execution_count": 200,
   "id": "3964af8e",
   "metadata": {},
   "outputs": [
    {
     "data": {
      "text/plain": [
       "0    [{'id': 878, 'name': 'Science Fiction'}, {'id'...\n",
       "2    [{'id': 14, 'name': 'Fantasy'}, {'id': 35, 'na...\n",
       "4    [{'id': 27, 'name': 'Horror'}, {'id': 18, 'nam...\n",
       "6    [{'id': 10751, 'name': 'Family'}, {'id': 16, '...\n",
       "7    [{\"id\": 10751, \"name\": \"Family\"}, {\"id\": 16, \"...\n",
       "Name: genres, dtype: object"
      ]
     },
     "execution_count": 200,
     "metadata": {},
     "output_type": "execute_result"
    }
   ],
   "source": [
    "df.genres.head()"
   ]
  },
  {
   "cell_type": "code",
   "execution_count": 201,
   "id": "2df3575d",
   "metadata": {},
   "outputs": [
    {
     "data": {
      "text/plain": [
       "count                              4809\n",
       "unique                             1189\n",
       "top       [{\"id\": 18, \"name\": \"Drama\"}]\n",
       "freq                                369\n",
       "Name: genres, dtype: object"
      ]
     },
     "execution_count": 201,
     "metadata": {},
     "output_type": "execute_result"
    }
   ],
   "source": [
    "df.genres.describe()"
   ]
  },
  {
   "cell_type": "markdown",
   "id": "3d8b3650",
   "metadata": {},
   "source": [
    "Se nota que cada gênero (valor do dicionario) possui seu id (chave do dicionário), e um filme pode conter uma lista de gêneros. Posteriormente podemos transformar esta coluna, cada gênero se torna mais uma feature, sendo uma variável binária , ou seja, se o filme apresenta este gênero a linha deste fica com valor True (1)."
   ]
  },
  {
   "cell_type": "code",
   "execution_count": 202,
   "id": "c152d68e",
   "metadata": {},
   "outputs": [
    {
     "data": {
      "text/plain": [
       "0                                        NaN\n",
       "2           http://movies.disney.com/the-kid\n",
       "4                                        NaN\n",
       "6    https://change.org/PenguinsOfMadagascar\n",
       "7                                        NaN\n",
       "Name: homepage, dtype: object"
      ]
     },
     "execution_count": 202,
     "metadata": {},
     "output_type": "execute_result"
    }
   ],
   "source": [
    "df.homepage.head()"
   ]
  },
  {
   "cell_type": "markdown",
   "id": "c7018578",
   "metadata": {},
   "source": [
    "Esta é uma variável que poderá ser descartada, pois o site não parece ter valor para indicação de um filme. Além de que é uma feature que possui muitos valores nulos, cerca de 60%."
   ]
  },
  {
   "cell_type": "code",
   "execution_count": 203,
   "id": "def65039",
   "metadata": {},
   "outputs": [
    {
     "data": {
      "text/plain": [
       "0     16320.0\n",
       "2      4244.0\n",
       "4      8913.0\n",
       "6    270946.0\n",
       "7    270946.0\n",
       "Name: id, dtype: float64"
      ]
     },
     "execution_count": 203,
     "metadata": {},
     "output_type": "execute_result"
    }
   ],
   "source": [
    "df.id.head()"
   ]
  },
  {
   "cell_type": "code",
   "execution_count": 206,
   "id": "e6a42647",
   "metadata": {},
   "outputs": [],
   "source": [
    "df.id = df.id.astype('int64')"
   ]
  },
  {
   "cell_type": "markdown",
   "id": "c6763ac9",
   "metadata": {},
   "source": [
    "Está é a chave de identificação do filme não faz sentido analisá-la, somente uma conversão para inteiro."
   ]
  },
  {
   "cell_type": "code",
   "execution_count": 208,
   "id": "ede1fcc0",
   "metadata": {},
   "outputs": [
    {
     "data": {
      "text/plain": [
       "0    [{'id': 779, 'name': 'martial arts'}, {'id': 1...\n",
       "2    [{'id': 965, 'name': 'age difference'}, {'id':...\n",
       "4    [{'id': 818, 'name': 'based on novel or book'}...\n",
       "6    [{'id': 470, 'name': 'spy'}, {'id': 1994, 'nam...\n",
       "7    [{\"id\": 3028, \"name\": \"penguin\"}, {\"id\": 3645,...\n",
       "Name: keywords, dtype: object"
      ]
     },
     "execution_count": 208,
     "metadata": {},
     "output_type": "execute_result"
    }
   ],
   "source": [
    "df.keywords.head()"
   ]
  },
  {
   "cell_type": "markdown",
   "id": "064c9273",
   "metadata": {},
   "source": [
    "Uma coluna semelhante a de gêneros, mas aqueles são bem definidos, já as palavras chaves são bem aleatórias, assim não receberá o mesmo tratamento"
   ]
  },
  {
   "cell_type": "code",
   "execution_count": 216,
   "id": "a75d2f89",
   "metadata": {},
   "outputs": [
    {
     "data": {
      "text/plain": [
       "4134    en\n",
       "1194    en\n",
       "4711    fa\n",
       "1786    en\n",
       "4091    en\n",
       "Name: original_language, dtype: object"
      ]
     },
     "execution_count": 216,
     "metadata": {},
     "output_type": "execute_result"
    }
   ],
   "source": [
    "df.original_language.sample(5)"
   ]
  },
  {
   "cell_type": "code",
   "execution_count": 229,
   "id": "d079f6ef",
   "metadata": {},
   "outputs": [
    {
     "name": "stdout",
     "output_type": "stream",
     "text": [
      "['en' 'ja' 'fr' 'zh' 'es' 'de' 'hi' 'ru' 'ko' 'te' 'cn' 'it' 'nl' 'ta'\n",
      " 'sv' 'th' 'da' 'xx' 'hu' 'cs' 'pt' 'is' 'tr' 'nb' 'af' 'pl' 'he' 'ar'\n",
      " 'vi' 'ky' 'id' 'ro' 'fa' 'no' 'sl' 'ps' 'el'] total de idiomas: 37\n"
     ]
    }
   ],
   "source": [
    "print(df.original_language.unique(),'total de idiomas:',df.original_language.nunique())"
   ]
  },
  {
   "cell_type": "code",
   "execution_count": 233,
   "id": "ab067a45",
   "metadata": {},
   "outputs": [
    {
     "data": {
      "text/plain": [
       "en    4511\n",
       "fr      70\n",
       "es      32\n",
       "zh      27\n",
       "de      27\n",
       "hi      19\n",
       "ja      16\n",
       "it      14\n",
       "cn      12\n",
       "ru      11\n",
       "ko      11\n",
       "pt       9\n",
       "da       7\n",
       "sv       5\n",
       "nl       4\n",
       "fa       4\n",
       "th       3\n",
       "he       3\n",
       "ta       2\n",
       "cs       2\n",
       "ro       2\n",
       "id       2\n",
       "ar       2\n",
       "vi       1\n",
       "sl       1\n",
       "ps       1\n",
       "no       1\n",
       "ky       1\n",
       "hu       1\n",
       "pl       1\n",
       "af       1\n",
       "nb       1\n",
       "tr       1\n",
       "is       1\n",
       "xx       1\n",
       "te       1\n",
       "el       1\n",
       "Name: original_language, dtype: int64"
      ]
     },
     "execution_count": 233,
     "metadata": {},
     "output_type": "execute_result"
    }
   ],
   "source": [
    "df.original_language.value_counts()"
   ]
  },
  {
   "cell_type": "markdown",
   "id": "f0a05d50",
   "metadata": {},
   "source": [
    "Há uma variedade de idiomas, mas, como se imagina são predominantemente em inglês. Isto faz-nos pensar sobre o modelo, pois a uma grande probabilidade de se recomendar um filme em ingles, mas será que filmes em outros idiomas tem peso para indicar um filme no mesmo idioma"
   ]
  },
  {
   "cell_type": "code",
   "execution_count": null,
   "id": "5e0ced40",
   "metadata": {},
   "outputs": [],
   "source": []
  }
 ],
 "metadata": {
  "kernelspec": {
   "display_name": "Python 3 (ipykernel)",
   "language": "python",
   "name": "python3"
  },
  "language_info": {
   "codemirror_mode": {
    "name": "ipython",
    "version": 3
   },
   "file_extension": ".py",
   "mimetype": "text/x-python",
   "name": "python",
   "nbconvert_exporter": "python",
   "pygments_lexer": "ipython3",
   "version": "3.9.12"
  }
 },
 "nbformat": 4,
 "nbformat_minor": 5
}
